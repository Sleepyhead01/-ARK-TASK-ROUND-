{
  "nbformat": 4,
  "nbformat_minor": 0,
  "metadata": {
    "colab": {
      "name": "Copy of treasure.ipynb",
      "provenance": [],
      "collapsed_sections": []
    },
    "kernelspec": {
      "name": "python3",
      "display_name": "Python 3"
    },
    "language_info": {
      "name": "python"
    }
  },
  "cells": [
    {
      "cell_type": "code",
      "metadata": {
        "id": "oo96PBx338GU"
      },
      "source": [
        "import cv2\n",
        "import numpy as np\n",
        "\n",
        "img = cv2.imread('/content/drive/MyDrive/treasure_mp3.png', cv2.IMREAD_GRAYSCALE)\n",
        "\n",
        "file1 = open('treasure.txt', 'w')\n",
        "\n",
        "for x in range(0, 390):\n",
        "    for y in range(0, 390):\n",
        "        file1.write(chr(img[x][y]))\n",
        "        \n",
        "\n",
        "\n",
        "\n",
        "file1.close()"
      ],
      "execution_count": null,
      "outputs": []
    },
    {
      "cell_type": "code",
      "metadata": {
        "id": "712hxV_TDBVf"
      },
      "source": [
        "arr = []\n",
        "\n",
        "for x in range(100, 380):\n",
        "    for y in range(0, 390):\n",
        "        arr.append(int(img[x][y]))\n",
        "\n",
        "file2 = open('treasure.bin', 'wb')\n",
        "file2.write(bytearray(arr))\n",
        "file2.close()"
      ],
      "execution_count": null,
      "outputs": []
    },
    {
      "cell_type": "code",
      "metadata": {
        "id": "iD4QiPuOzEi9"
      },
      "source": [
        ""
      ],
      "execution_count": null,
      "outputs": []
    }
  ]
}